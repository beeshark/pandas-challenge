{
 "metadata": {
  "language_info": {
   "codemirror_mode": {
    "name": "ipython",
    "version": 3
   },
   "file_extension": ".py",
   "mimetype": "text/x-python",
   "name": "python",
   "nbconvert_exporter": "python",
   "pygments_lexer": "ipython3",
   "version": "3.6.10-final"
  },
  "orig_nbformat": 2,
  "kernelspec": {
   "name": "python_defaultSpec_1598555248374",
   "display_name": "Python 3.6.10 64-bit ('bcs': conda)"
  }
 },
 "nbformat": 4,
 "nbformat_minor": 2,
 "cells": [
  {
   "cell_type": "code",
   "execution_count": 194,
   "metadata": {},
   "outputs": [],
   "source": [
    "import pandas as pd"
   ]
  },
  {
   "cell_type": "code",
   "execution_count": 195,
   "metadata": {},
   "outputs": [
    {
     "output_type": "execute_result",
     "data": {
      "text/plain": "   Purchase ID             SN  Age Gender  Item ID  \\\n0            0        Lisim78   20   Male      108   \n1            1    Lisovynya38   40   Male      143   \n2            2     Ithergue48   24   Male       92   \n3            3  Chamassasya86   24   Male      100   \n4            4      Iskosia90   23   Male      131   \n\n                                   Item Name  Price  \n0  Extraction, Quickblade Of Trembling Hands   3.53  \n1                          Frenzied Scimitar   1.56  \n2                               Final Critic   4.88  \n3                                Blindscythe   3.27  \n4                                       Fury   1.44  ",
      "text/html": "<div>\n<style scoped>\n    .dataframe tbody tr th:only-of-type {\n        vertical-align: middle;\n    }\n\n    .dataframe tbody tr th {\n        vertical-align: top;\n    }\n\n    .dataframe thead th {\n        text-align: right;\n    }\n</style>\n<table border=\"1\" class=\"dataframe\">\n  <thead>\n    <tr style=\"text-align: right;\">\n      <th></th>\n      <th>Purchase ID</th>\n      <th>SN</th>\n      <th>Age</th>\n      <th>Gender</th>\n      <th>Item ID</th>\n      <th>Item Name</th>\n      <th>Price</th>\n    </tr>\n  </thead>\n  <tbody>\n    <tr>\n      <th>0</th>\n      <td>0</td>\n      <td>Lisim78</td>\n      <td>20</td>\n      <td>Male</td>\n      <td>108</td>\n      <td>Extraction, Quickblade Of Trembling Hands</td>\n      <td>3.53</td>\n    </tr>\n    <tr>\n      <th>1</th>\n      <td>1</td>\n      <td>Lisovynya38</td>\n      <td>40</td>\n      <td>Male</td>\n      <td>143</td>\n      <td>Frenzied Scimitar</td>\n      <td>1.56</td>\n    </tr>\n    <tr>\n      <th>2</th>\n      <td>2</td>\n      <td>Ithergue48</td>\n      <td>24</td>\n      <td>Male</td>\n      <td>92</td>\n      <td>Final Critic</td>\n      <td>4.88</td>\n    </tr>\n    <tr>\n      <th>3</th>\n      <td>3</td>\n      <td>Chamassasya86</td>\n      <td>24</td>\n      <td>Male</td>\n      <td>100</td>\n      <td>Blindscythe</td>\n      <td>3.27</td>\n    </tr>\n    <tr>\n      <th>4</th>\n      <td>4</td>\n      <td>Iskosia90</td>\n      <td>23</td>\n      <td>Male</td>\n      <td>131</td>\n      <td>Fury</td>\n      <td>1.44</td>\n    </tr>\n  </tbody>\n</table>\n</div>"
     },
     "metadata": {},
     "execution_count": 195
    }
   ],
   "source": [
    "#csv path is purchase data (pdata)\n",
    "csv_path=\"../Resources/purchase_data.csv\"\n",
    "pdata_df=pd.read_csv(csv_path)\n",
    "pdata_df.head()"
   ]
  },
  {
   "cell_type": "code",
   "execution_count": 196,
   "metadata": {},
   "outputs": [],
   "source": [
    "# player count - total # of players\n",
    "player_count = len(pdata_df[\"SN\"].unique())\n",
    "\n",
    "# purchasing analysis (total) - number of unique items, avg purchase price, total # of purchases, total revenue\n",
    "unique_items = len(pdata_df[\"Item Name\"].unique())\n",
    "\n",
    "avg_purchase_price = pdata_df[\"Price\"].mean()\n",
    "\n",
    "total_purchases = pdata_df[\"Item ID\"].count()\n",
    "\n",
    "pdata_df[\"Total Revenue\"] = pdata_df.sum(axis=1)\n",
    "total_revenue = sum(pdata_df[\"Total Revenue\"])\n"
   ]
  },
  {
   "cell_type": "code",
   "execution_count": 197,
   "metadata": {},
   "outputs": [
    {
     "output_type": "execute_result",
     "data": {
      "text/plain": "   Total Players  # of Unique Items  Avg Purchase Price  Total # of Purchases  \\\n0            576                179                3.05                   780   \n\n   Total Revenue  \n0      395475.77  ",
      "text/html": "<div>\n<style scoped>\n    .dataframe tbody tr th:only-of-type {\n        vertical-align: middle;\n    }\n\n    .dataframe tbody tr th {\n        vertical-align: top;\n    }\n\n    .dataframe thead th {\n        text-align: right;\n    }\n</style>\n<table border=\"1\" class=\"dataframe\">\n  <thead>\n    <tr style=\"text-align: right;\">\n      <th></th>\n      <th>Total Players</th>\n      <th># of Unique Items</th>\n      <th>Avg Purchase Price</th>\n      <th>Total # of Purchases</th>\n      <th>Total Revenue</th>\n    </tr>\n  </thead>\n  <tbody>\n    <tr>\n      <th>0</th>\n      <td>576</td>\n      <td>179</td>\n      <td>3.05</td>\n      <td>780</td>\n      <td>395475.77</td>\n    </tr>\n  </tbody>\n</table>\n</div>"
     },
     "metadata": {},
     "execution_count": 197
    }
   ],
   "source": [
    "#place into dataframe for total purchase analysis\n",
    "purchase_analysis1_df = pd.DataFrame({\"Total Players\": [player_count],\n",
    "                                      \"# of Unique Items\":[unique_items],\n",
    "                                      \"Avg Purchase Price\": [round(avg_purchase_price, 2)],\n",
    "                                      \"Total # of Purchases\":[total_purchases],\n",
    "                                      \"Total Revenue\":[total_revenue]\n",
    "                                      })\n",
    "                                      \n",
    "purchase_analysis1_df"
   ]
  },
  {
   "cell_type": "code",
   "execution_count": 202,
   "metadata": {},
   "outputs": [
    {
     "output_type": "execute_result",
     "data": {
      "text/plain": "                       Player Percentage  Gender Count\nFemale                              14.1            81\nMale                                84.0           484\nOther / Non-Disclosed                1.9            11",
      "text/html": "<div>\n<style scoped>\n    .dataframe tbody tr th:only-of-type {\n        vertical-align: middle;\n    }\n\n    .dataframe tbody tr th {\n        vertical-align: top;\n    }\n\n    .dataframe thead th {\n        text-align: right;\n    }\n</style>\n<table border=\"1\" class=\"dataframe\">\n  <thead>\n    <tr style=\"text-align: right;\">\n      <th></th>\n      <th>Player Percentage</th>\n      <th>Gender Count</th>\n    </tr>\n  </thead>\n  <tbody>\n    <tr>\n      <th>Female</th>\n      <td>14.1</td>\n      <td>81</td>\n    </tr>\n    <tr>\n      <th>Male</th>\n      <td>84.0</td>\n      <td>484</td>\n    </tr>\n    <tr>\n      <th>Other / Non-Disclosed</th>\n      <td>1.9</td>\n      <td>11</td>\n    </tr>\n  </tbody>\n</table>\n</div>"
     },
     "metadata": {},
     "execution_count": 202
    }
   ],
   "source": [
    "# gender demographics - % and count of male, % and count of female, % and count of other/nondisclosed\n",
    "genders = pdata_df.groupby(\"Gender\")\n",
    "\n",
    "total_gender_count = genders.nunique()[\"SN\"]\n",
    "\n",
    "percentages = total_gender_count/player_count * 100\n",
    "\n",
    "gender_demographic = pd.DataFrame({\"Player Percentage\": round(percentages, 1),\n",
    "                                   \"Gender Count\": total_gender_count\n",
    "})\n",
    "gender_demographic.index.name = None\n",
    "gender_demographic\n"
   ]
  },
  {
   "cell_type": "code",
   "execution_count": 199,
   "metadata": {},
   "outputs": [],
   "source": [
    "# purchasing analysis(gender) - sorting by each gender, include: purchase count, avge purchase count, total purchase value, avg purchase total per person by gender\n"
   ]
  },
  {
   "cell_type": "code",
   "execution_count": 200,
   "metadata": {},
   "outputs": [],
   "source": [
    "# age demographics - break into bins of 4 years - purchase count, avg purchase price, total purchase value, avg purchase total per person by age group\n",
    "### bins = [\"\"]\n",
    "### group_names = [\"\"]\n",
    "### df[\"Age Demographics\"] = pd.cut(df[\"\"])"
   ]
  },
  {
   "cell_type": "code",
   "execution_count": 201,
   "metadata": {},
   "outputs": [],
   "source": [
    "## TOP 5s\n",
    "\n",
    "# top spenders(whales) (the top 5) by total purchase value then list in table their sn, purchase count, avg purchase price, total purchase value\n",
    "\n",
    "# most popular items (top 5)(by purchase count) sorted into table by item id, item name, purchase count, item price, total purchase value\n",
    "\n",
    "# most profitable items (top 5)(by total purchase value) into table by item id, item name, purchase count, item price, total purchase value"
   ]
  }
 ]
}