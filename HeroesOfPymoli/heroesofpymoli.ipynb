{
 "metadata": {
  "language_info": {
   "codemirror_mode": {
    "name": "ipython",
    "version": 3
   },
   "file_extension": ".py",
   "mimetype": "text/x-python",
   "name": "python",
   "nbconvert_exporter": "python",
   "pygments_lexer": "ipython3",
   "version": "3.6.10-final"
  },
  "orig_nbformat": 2,
  "kernelspec": {
   "name": "python_defaultSpec_1598680173912",
   "display_name": "Python 3.6.10 64-bit ('bcs': conda)"
  }
 },
 "nbformat": 4,
 "nbformat_minor": 2,
 "cells": [
  {
   "cell_type": "code",
   "execution_count": 47,
   "metadata": {},
   "outputs": [],
   "source": [
    "import pandas as pd"
   ]
  },
  {
   "cell_type": "code",
   "execution_count": 48,
   "metadata": {},
   "outputs": [],
   "source": [
    "#csv path is purchase data (pdata)\n",
    "csv_path=\"../Resources/purchase_data.csv\"\n",
    "heroes_df=pd.read_csv(csv_path)"
   ]
  },
  {
   "cell_type": "code",
   "execution_count": 49,
   "metadata": {},
   "outputs": [],
   "source": [
    "# player count - total # of players\n",
    "player_count = len(heroes_df[\"SN\"].unique())\n",
    "\n",
    "# purchasing analysis (total) - number of unique items, avg purchase price, total # of purchases, total revenue\n",
    "unique_items = len(heroes_df[\"Item ID\"].value_counts())\n",
    "\n",
    "avg_purchase_price = heroes_df[\"Price\"].mean()\n",
    "\n",
    "total_purchases = heroes_df[\"Purchase ID\"].count()\n",
    "\n",
    "total_revenue = heroes_df[\"Price\"].sum()"
   ]
  },
  {
   "cell_type": "code",
   "execution_count": 50,
   "metadata": {},
   "outputs": [
    {
     "output_type": "execute_result",
     "data": {
      "text/plain": "   Total Players  # of Unique Items  Avg Purchase Price  Total # of Purchases  \\\n0            576                179                3.05                   780   \n\n   Total Revenue  \n0        2379.77  ",
      "text/html": "<div>\n<style scoped>\n    .dataframe tbody tr th:only-of-type {\n        vertical-align: middle;\n    }\n\n    .dataframe tbody tr th {\n        vertical-align: top;\n    }\n\n    .dataframe thead th {\n        text-align: right;\n    }\n</style>\n<table border=\"1\" class=\"dataframe\">\n  <thead>\n    <tr style=\"text-align: right;\">\n      <th></th>\n      <th>Total Players</th>\n      <th># of Unique Items</th>\n      <th>Avg Purchase Price</th>\n      <th>Total # of Purchases</th>\n      <th>Total Revenue</th>\n    </tr>\n  </thead>\n  <tbody>\n    <tr>\n      <th>0</th>\n      <td>576</td>\n      <td>179</td>\n      <td>3.05</td>\n      <td>780</td>\n      <td>2379.77</td>\n    </tr>\n  </tbody>\n</table>\n</div>"
     },
     "metadata": {},
     "execution_count": 50
    }
   ],
   "source": [
    "#place into dataframe for total purchase analysis\n",
    "purchase_analysis1_df = pd.DataFrame({\"Total Players\": [player_count],\n",
    "                                      \"# of Unique Items\":[unique_items],\n",
    "                                      \"Avg Purchase Price\": [round(avg_purchase_price, 2)],\n",
    "                                      \"Total # of Purchases\":[total_purchases],\n",
    "                                      \"Total Revenue\":[total_revenue]\n",
    "                                      })\n",
    "purchase_analysis1_df"
   ]
  },
  {
   "cell_type": "code",
   "execution_count": 51,
   "metadata": {},
   "outputs": [
    {
     "output_type": "execute_result",
     "data": {
      "text/plain": "                       Player Percentage  Gender Count\nGender                                                \nFemale                              14.1            81\nMale                                84.0           484\nOther / Non-Disclosed                1.9            11",
      "text/html": "<div>\n<style scoped>\n    .dataframe tbody tr th:only-of-type {\n        vertical-align: middle;\n    }\n\n    .dataframe tbody tr th {\n        vertical-align: top;\n    }\n\n    .dataframe thead th {\n        text-align: right;\n    }\n</style>\n<table border=\"1\" class=\"dataframe\">\n  <thead>\n    <tr style=\"text-align: right;\">\n      <th></th>\n      <th>Player Percentage</th>\n      <th>Gender Count</th>\n    </tr>\n    <tr>\n      <th>Gender</th>\n      <th></th>\n      <th></th>\n    </tr>\n  </thead>\n  <tbody>\n    <tr>\n      <th>Female</th>\n      <td>14.1</td>\n      <td>81</td>\n    </tr>\n    <tr>\n      <th>Male</th>\n      <td>84.0</td>\n      <td>484</td>\n    </tr>\n    <tr>\n      <th>Other / Non-Disclosed</th>\n      <td>1.9</td>\n      <td>11</td>\n    </tr>\n  </tbody>\n</table>\n</div>"
     },
     "metadata": {},
     "execution_count": 51
    }
   ],
   "source": [
    "# gender demographics - % and count of male, % and count of female, % and count of other/nondisclosed\n",
    "genders = heroes_df.groupby(\"Gender\")\n",
    "\n",
    "total_gender_count = genders.nunique()[\"SN\"]\n",
    "\n",
    "percentages = total_gender_count/player_count * 100\n",
    "\n",
    "gender_demographic = pd.DataFrame({\"Player Percentage\": round(percentages, 1),\n",
    "                                   \"Gender Count\": total_gender_count\n",
    "})\n",
    "gender_demographic\n"
   ]
  },
  {
   "cell_type": "code",
   "execution_count": 81,
   "metadata": {
    "tags": []
   },
   "outputs": [
    {
     "output_type": "execute_result",
     "data": {
      "text/plain": "                       Purchase Count  Average Purchase Price  \\\nGender                                                          \nFemale                            113                    3.20   \nMale                              652                    3.02   \nOther / Non-Disclosed              15                    3.35   \n\n                       Total Purchase Value  Avg. Total Per Person  \nGender                                                              \nFemale                               361.94                   3.20  \nMale                                1967.64                   3.02  \nOther / Non-Disclosed                 50.19                   3.35  ",
      "text/html": "<div>\n<style scoped>\n    .dataframe tbody tr th:only-of-type {\n        vertical-align: middle;\n    }\n\n    .dataframe tbody tr th {\n        vertical-align: top;\n    }\n\n    .dataframe thead th {\n        text-align: right;\n    }\n</style>\n<table border=\"1\" class=\"dataframe\">\n  <thead>\n    <tr style=\"text-align: right;\">\n      <th></th>\n      <th>Purchase Count</th>\n      <th>Average Purchase Price</th>\n      <th>Total Purchase Value</th>\n      <th>Avg. Total Per Person</th>\n    </tr>\n    <tr>\n      <th>Gender</th>\n      <th></th>\n      <th></th>\n      <th></th>\n      <th></th>\n    </tr>\n  </thead>\n  <tbody>\n    <tr>\n      <th>Female</th>\n      <td>113</td>\n      <td>3.20</td>\n      <td>361.94</td>\n      <td>3.20</td>\n    </tr>\n    <tr>\n      <th>Male</th>\n      <td>652</td>\n      <td>3.02</td>\n      <td>1967.64</td>\n      <td>3.02</td>\n    </tr>\n    <tr>\n      <th>Other / Non-Disclosed</th>\n      <td>15</td>\n      <td>3.35</td>\n      <td>50.19</td>\n      <td>3.35</td>\n    </tr>\n  </tbody>\n</table>\n</div>"
     },
     "metadata": {},
     "execution_count": 81
    }
   ],
   "source": [
    "# purchasing analysis(gender) - sorting by each gender, include: purchase count, avge purchase count, total purchase value, avg purchase total per person by gender\n",
    "\n",
    "gender_purchases_df = heroes_df.groupby('Gender')\n",
    "\n",
    "person_count = gender_purchases_df['SN'].count()\n",
    "person_count_df = pd.DataFrame(person_count)\n",
    "\n",
    "# avg and sum\n",
    "avg_price = gender_purchases_df['Price'].mean()\n",
    "total_gender_purchases = gender_purchases_df['Price'].sum()\n",
    "total_per_person = total_gender_purchases / person_count\n",
    "\n",
    "# make a table\n",
    "person_count_df[\"Avg Overall\"] = round(avg_price,2)\n",
    "\n",
    "gender_purchases_df = pd.DataFrame(person_count_df)\n",
    "\n",
    "#renaming and adding columns\n",
    "gender_purchases2_df.rename(columns={\"SN\": \"Purchase Count\"})\n",
    "gender_purchases2_df[\"Total Purchase Value\"] = total_gender_purchases\n",
    "gender_purchases2_df[\"Avg. Total Per Person\"] = round(total_per_person,2)\n",
    "\n",
    "gender_purchases2_df\n"
   ]
  },
  {
   "cell_type": "code",
   "execution_count": 54,
   "metadata": {},
   "outputs": [
    {
     "output_type": "error",
     "ename": "NameError",
     "evalue": "name 'groups' is not defined",
     "traceback": [
      "\u001b[1;31m---------------------------------------------------------------------------\u001b[0m",
      "\u001b[1;31mNameError\u001b[0m                                 Traceback (most recent call last)",
      "\u001b[1;32m<ipython-input-54-c7210461f26c>\u001b[0m in \u001b[0;36m<module>\u001b[1;34m\u001b[0m\n\u001b[0;32m      6\u001b[0m \u001b[0mgroup_names\u001b[0m \u001b[1;33m=\u001b[0m \u001b[1;33m[\u001b[0m\u001b[1;34m'<10'\u001b[0m\u001b[1;33m,\u001b[0m\u001b[1;34m'10-14'\u001b[0m\u001b[1;33m,\u001b[0m\u001b[1;34m'15-19'\u001b[0m\u001b[1;33m,\u001b[0m\u001b[1;34m'20-24'\u001b[0m\u001b[1;33m,\u001b[0m\u001b[1;34m'25-29'\u001b[0m\u001b[1;33m,\u001b[0m\u001b[1;34m'30-34'\u001b[0m\u001b[1;33m,\u001b[0m\u001b[1;34m'35-39'\u001b[0m\u001b[1;33m,\u001b[0m\u001b[1;34m'40+'\u001b[0m\u001b[1;33m]\u001b[0m\u001b[1;33m\u001b[0m\u001b[1;33m\u001b[0m\u001b[0m\n\u001b[0;32m      7\u001b[0m \u001b[1;33m\u001b[0m\u001b[0m\n\u001b[1;32m----> 8\u001b[1;33m \u001b[0mbathed_heroes_df\u001b[0m\u001b[1;33m[\u001b[0m\u001b[1;34m\"Age Range\"\u001b[0m\u001b[1;33m]\u001b[0m \u001b[1;33m=\u001b[0m \u001b[0mpd\u001b[0m\u001b[1;33m.\u001b[0m\u001b[0mcut\u001b[0m\u001b[1;33m(\u001b[0m\u001b[0mbathed_heroes_df\u001b[0m\u001b[1;33m[\u001b[0m\u001b[1;34m\"Age\"\u001b[0m\u001b[1;33m]\u001b[0m\u001b[1;33m,\u001b[0m \u001b[0mbins\u001b[0m\u001b[1;33m,\u001b[0m \u001b[0mlabels\u001b[0m\u001b[1;33m=\u001b[0m\u001b[0mgroups\u001b[0m\u001b[1;33m)\u001b[0m\u001b[1;33m\u001b[0m\u001b[1;33m\u001b[0m\u001b[0m\n\u001b[0m\u001b[0;32m      9\u001b[0m \u001b[0mages_df\u001b[0m \u001b[1;33m=\u001b[0m \u001b[0mbathed_heroes_df\u001b[0m\u001b[1;33m.\u001b[0m\u001b[0mgroupby\u001b[0m\u001b[1;33m(\u001b[0m\u001b[1;33m[\u001b[0m\u001b[1;34m\"Age Range\"\u001b[0m\u001b[1;33m]\u001b[0m\u001b[1;33m)\u001b[0m\u001b[1;33m\u001b[0m\u001b[1;33m\u001b[0m\u001b[0m\n\u001b[0;32m     10\u001b[0m \u001b[1;33m\u001b[0m\u001b[0m\n",
      "\u001b[1;31mNameError\u001b[0m: name 'groups' is not defined"
     ]
    }
   ],
   "source": [
    "# age demographics - break into bins of 4 years - purchase count, avg purchase price, total purchase value, avg purchase total per person by age group\n",
    "#clean things up\n",
    "bathed_heroes_df = heroes_df.drop_duplicates(\"SN\")\n",
    "\n",
    "bins = [0,9,14,19,29,34,39,100]\n",
    "group_names = ['<10','10-14','15-19','20-24','25-29','30-34','35-39','40+']\n",
    "\n",
    "bathed_heroes_df[\"Age Range\"] = pd.cut(bathed_heroes_df[\"Age\"], bins, labels=groups)\n",
    "ages_df = bathed_heroes_df.groupby([\"Age Range\"])\n",
    "\n",
    "\n"
   ]
  },
  {
   "cell_type": "code",
   "execution_count": 55,
   "metadata": {},
   "outputs": [],
   "source": [
    "## TOP 5s\n",
    "\n",
    "# top spenders(whales) (the top 5) by total purchase value then list in table their sn, purchase count, avg purchase price, total purchase value\n",
    "\n",
    "# most popular items (top 5)(by purchase count) sorted into table by item id, item name, purchase count, item price, total purchase value\n",
    "\n",
    "# most profitable items (top 5)(by total purchase value) into table by item id, item name, purchase count, item price, total purchase value"
   ]
  }
 ]
}