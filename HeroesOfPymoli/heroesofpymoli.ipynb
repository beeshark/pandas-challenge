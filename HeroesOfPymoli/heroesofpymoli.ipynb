{
 "metadata": {
  "language_info": {
   "codemirror_mode": {
    "name": "ipython",
    "version": 3
   },
   "file_extension": ".py",
   "mimetype": "text/x-python",
   "name": "python",
   "nbconvert_exporter": "python",
   "pygments_lexer": "ipython3",
   "version": "3.6.10-final"
  },
  "orig_nbformat": 2,
  "kernelspec": {
   "name": "python_defaultSpec_1598680173912",
   "display_name": "Python 3.6.10 64-bit ('bcs': conda)"
  }
 },
 "nbformat": 4,
 "nbformat_minor": 2,
 "cells": [
  {
   "cell_type": "code",
   "execution_count": 173,
   "metadata": {},
   "outputs": [],
   "source": [
    "import pandas as pd"
   ]
  },
  {
   "cell_type": "code",
   "execution_count": 174,
   "metadata": {},
   "outputs": [],
   "source": [
    "#csv path is purchase data (pdata)\n",
    "csv_path=\"../Resources/purchase_data.csv\"\n",
    "heroes_df=pd.read_csv(csv_path)"
   ]
  },
  {
   "cell_type": "code",
   "execution_count": 175,
   "metadata": {},
   "outputs": [],
   "source": [
    "# player count - total # of players\n",
    "player_count = len(heroes_df[\"SN\"].unique())\n",
    "\n",
    "# purchasing analysis (total) - number of unique items, avg purchase price, total # of purchases, total revenue\n",
    "unique_items = len(heroes_df[\"Item ID\"].value_counts())\n",
    "\n",
    "avg_purchase_price = heroes_df[\"Price\"].mean()\n",
    "\n",
    "total_purchases = heroes_df[\"Purchase ID\"].count()\n",
    "\n",
    "total_revenue = heroes_df[\"Price\"].sum()"
   ]
  },
  {
   "cell_type": "code",
   "execution_count": 176,
   "metadata": {},
   "outputs": [
    {
     "output_type": "execute_result",
     "data": {
      "text/plain": "   Total Players  # of Unique Items  Avg Purchase Price  Total # of Purchases  \\\n0            576                179                3.05                   780   \n\n   Total Revenue  \n0        2379.77  ",
      "text/html": "<div>\n<style scoped>\n    .dataframe tbody tr th:only-of-type {\n        vertical-align: middle;\n    }\n\n    .dataframe tbody tr th {\n        vertical-align: top;\n    }\n\n    .dataframe thead th {\n        text-align: right;\n    }\n</style>\n<table border=\"1\" class=\"dataframe\">\n  <thead>\n    <tr style=\"text-align: right;\">\n      <th></th>\n      <th>Total Players</th>\n      <th># of Unique Items</th>\n      <th>Avg Purchase Price</th>\n      <th>Total # of Purchases</th>\n      <th>Total Revenue</th>\n    </tr>\n  </thead>\n  <tbody>\n    <tr>\n      <th>0</th>\n      <td>576</td>\n      <td>179</td>\n      <td>3.05</td>\n      <td>780</td>\n      <td>2379.77</td>\n    </tr>\n  </tbody>\n</table>\n</div>"
     },
     "metadata": {},
     "execution_count": 176
    }
   ],
   "source": [
    "#place into dataframe for total purchase analysis\n",
    "purchase_analysis1_df = pd.DataFrame({\"Total Players\": [player_count],\n",
    "                                      \"# of Unique Items\":[unique_items],\n",
    "                                      \"Avg Purchase Price\": [round(avg_purchase_price, 2)],\n",
    "                                      \"Total # of Purchases\":[total_purchases],\n",
    "                                      \"Total Revenue\":[total_revenue]\n",
    "                                      })\n",
    "purchase_analysis1_df"
   ]
  },
  {
   "cell_type": "code",
   "execution_count": 177,
   "metadata": {},
   "outputs": [
    {
     "output_type": "execute_result",
     "data": {
      "text/plain": "                       Player Percentage  Gender Count\nGender                                                \nFemale                              14.1            81\nMale                                84.0           484\nOther / Non-Disclosed                1.9            11",
      "text/html": "<div>\n<style scoped>\n    .dataframe tbody tr th:only-of-type {\n        vertical-align: middle;\n    }\n\n    .dataframe tbody tr th {\n        vertical-align: top;\n    }\n\n    .dataframe thead th {\n        text-align: right;\n    }\n</style>\n<table border=\"1\" class=\"dataframe\">\n  <thead>\n    <tr style=\"text-align: right;\">\n      <th></th>\n      <th>Player Percentage</th>\n      <th>Gender Count</th>\n    </tr>\n    <tr>\n      <th>Gender</th>\n      <th></th>\n      <th></th>\n    </tr>\n  </thead>\n  <tbody>\n    <tr>\n      <th>Female</th>\n      <td>14.1</td>\n      <td>81</td>\n    </tr>\n    <tr>\n      <th>Male</th>\n      <td>84.0</td>\n      <td>484</td>\n    </tr>\n    <tr>\n      <th>Other / Non-Disclosed</th>\n      <td>1.9</td>\n      <td>11</td>\n    </tr>\n  </tbody>\n</table>\n</div>"
     },
     "metadata": {},
     "execution_count": 177
    }
   ],
   "source": [
    "# gender demographics - % and count of male, % and count of female, % and count of other/nondisclosed\n",
    "genders = heroes_df.groupby(\"Gender\")\n",
    "\n",
    "total_gender_count = genders.nunique()[\"SN\"]\n",
    "\n",
    "percentages = total_gender_count/player_count * 100\n",
    "\n",
    "gender_demographic = pd.DataFrame({\"Player Percentage\": round(percentages, 1),\n",
    "                                   \"Gender Count\": total_gender_count\n",
    "})\n",
    "gender_demographic\n"
   ]
  },
  {
   "cell_type": "code",
   "execution_count": 178,
   "metadata": {
    "tags": []
   },
   "outputs": [
    {
     "output_type": "execute_result",
     "data": {
      "text/plain": "                       Purchase Count  Average Purchase Price  \\\nGender                                                          \nFemale                            113                    3.20   \nMale                              652                    3.02   \nOther / Non-Disclosed              15                    3.35   \n\n                       Total Purchase Value  Avg. Total Per Person  \nGender                                                              \nFemale                               361.94                   3.20  \nMale                                1967.64                   3.02  \nOther / Non-Disclosed                 50.19                   3.35  ",
      "text/html": "<div>\n<style scoped>\n    .dataframe tbody tr th:only-of-type {\n        vertical-align: middle;\n    }\n\n    .dataframe tbody tr th {\n        vertical-align: top;\n    }\n\n    .dataframe thead th {\n        text-align: right;\n    }\n</style>\n<table border=\"1\" class=\"dataframe\">\n  <thead>\n    <tr style=\"text-align: right;\">\n      <th></th>\n      <th>Purchase Count</th>\n      <th>Average Purchase Price</th>\n      <th>Total Purchase Value</th>\n      <th>Avg. Total Per Person</th>\n    </tr>\n    <tr>\n      <th>Gender</th>\n      <th></th>\n      <th></th>\n      <th></th>\n      <th></th>\n    </tr>\n  </thead>\n  <tbody>\n    <tr>\n      <th>Female</th>\n      <td>113</td>\n      <td>3.20</td>\n      <td>361.94</td>\n      <td>3.20</td>\n    </tr>\n    <tr>\n      <th>Male</th>\n      <td>652</td>\n      <td>3.02</td>\n      <td>1967.64</td>\n      <td>3.02</td>\n    </tr>\n    <tr>\n      <th>Other / Non-Disclosed</th>\n      <td>15</td>\n      <td>3.35</td>\n      <td>50.19</td>\n      <td>3.35</td>\n    </tr>\n  </tbody>\n</table>\n</div>"
     },
     "metadata": {},
     "execution_count": 178
    }
   ],
   "source": [
    "# purchasing analysis(gender) - sorting by each gender, include: purchase count, avge purchase count, total purchase value, avg purchase total per person by gender\n",
    "\n",
    "gender_purchases_df = heroes_df.groupby('Gender')\n",
    "\n",
    "person_count = gender_purchases_df['SN'].count()\n",
    "person_count_df = pd.DataFrame(person_count)\n",
    "\n",
    "# avg and sum\n",
    "avg_price = gender_purchases_df['Price'].mean()\n",
    "total_gender_purchases = gender_purchases_df['Price'].sum()\n",
    "total_per_person = total_gender_purchases / person_count\n",
    "\n",
    "# make a table\n",
    "person_count_df[\"Avg Overall\"] = round(avg_price,2)\n",
    "\n",
    "gender_purchases_df = pd.DataFrame(person_count_df)\n",
    "\n",
    "#renaming and adding columns\n",
    "gender_purchases2_df.rename(columns={\"SN\": \"Purchase Count\"})\n",
    "gender_purchases2_df[\"Total Purchase Value\"] = total_gender_purchases\n",
    "gender_purchases2_df[\"Avg. Total Per Person\"] = round(total_per_person,2)\n",
    "\n",
    "gender_purchases2_df\n"
   ]
  },
  {
   "cell_type": "code",
   "execution_count": 179,
   "metadata": {},
   "outputs": [
    {
     "output_type": "execute_result",
     "data": {
      "text/plain": "           Age\nAge Range     \n<10         24\n10-14       41\n15-19      150\n20-24      232\n25-29       59\n30-34       37\n35-39       26\n40+          7",
      "text/html": "<div>\n<style scoped>\n    .dataframe tbody tr th:only-of-type {\n        vertical-align: middle;\n    }\n\n    .dataframe tbody tr th {\n        vertical-align: top;\n    }\n\n    .dataframe thead th {\n        text-align: right;\n    }\n</style>\n<table border=\"1\" class=\"dataframe\">\n  <thead>\n    <tr style=\"text-align: right;\">\n      <th></th>\n      <th>Age</th>\n    </tr>\n    <tr>\n      <th>Age Range</th>\n      <th></th>\n    </tr>\n  </thead>\n  <tbody>\n    <tr>\n      <th>&lt;10</th>\n      <td>24</td>\n    </tr>\n    <tr>\n      <th>10-14</th>\n      <td>41</td>\n    </tr>\n    <tr>\n      <th>15-19</th>\n      <td>150</td>\n    </tr>\n    <tr>\n      <th>20-24</th>\n      <td>232</td>\n    </tr>\n    <tr>\n      <th>25-29</th>\n      <td>59</td>\n    </tr>\n    <tr>\n      <th>30-34</th>\n      <td>37</td>\n    </tr>\n    <tr>\n      <th>35-39</th>\n      <td>26</td>\n    </tr>\n    <tr>\n      <th>40+</th>\n      <td>7</td>\n    </tr>\n  </tbody>\n</table>\n</div>"
     },
     "metadata": {},
     "execution_count": 179
    }
   ],
   "source": [
    "# age demographics - break into bins of 4 years\n",
    "#clean things up\n",
    "bathed_heroes_df = heroes_df.drop_duplicates(\"SN\")\n",
    "\n",
    "#bins\n",
    "bins = [0,10,15,20,25,30,35,40,100]\n",
    "group_names = ['<10','10-14','15-19','20-24','25-29','30-34','35-39','40+']\n",
    "\n",
    "bathed_heroes_df[\"Age Range\"] = pd.cut(bathed_heroes_df[\"Age\"], bins, labels=group_names)\n",
    "ages_df = bathed_heroes_df.groupby([\"Age Range\"])\n",
    "ages_df = ages_df.count()\n",
    "\n",
    "sorted_ages_df = ages_df[[\"Age\"]]\n",
    "sorted_ages_df\n"
   ]
  },
  {
   "cell_type": "code",
   "execution_count": 180,
   "metadata": {},
   "outputs": [
    {
     "output_type": "execute_result",
     "data": {
      "text/plain": "     Purchase Count  Avg Overall  Total Purchase Value  Avg. Total Per Person\nAge                                                                          \n7                 9         3.65                 32.89                   3.65\n8                 8         3.25                 25.97                   3.25\n9                 6         3.04                 18.27                   3.04\n10                9         3.54                 31.83                   3.54\n11                7         2.68                 18.79                   2.68",
      "text/html": "<div>\n<style scoped>\n    .dataframe tbody tr th:only-of-type {\n        vertical-align: middle;\n    }\n\n    .dataframe tbody tr th {\n        vertical-align: top;\n    }\n\n    .dataframe thead th {\n        text-align: right;\n    }\n</style>\n<table border=\"1\" class=\"dataframe\">\n  <thead>\n    <tr style=\"text-align: right;\">\n      <th></th>\n      <th>Purchase Count</th>\n      <th>Avg Overall</th>\n      <th>Total Purchase Value</th>\n      <th>Avg. Total Per Person</th>\n    </tr>\n    <tr>\n      <th>Age</th>\n      <th></th>\n      <th></th>\n      <th></th>\n      <th></th>\n    </tr>\n  </thead>\n  <tbody>\n    <tr>\n      <th>7</th>\n      <td>9</td>\n      <td>3.65</td>\n      <td>32.89</td>\n      <td>3.65</td>\n    </tr>\n    <tr>\n      <th>8</th>\n      <td>8</td>\n      <td>3.25</td>\n      <td>25.97</td>\n      <td>3.25</td>\n    </tr>\n    <tr>\n      <th>9</th>\n      <td>6</td>\n      <td>3.04</td>\n      <td>18.27</td>\n      <td>3.04</td>\n    </tr>\n    <tr>\n      <th>10</th>\n      <td>9</td>\n      <td>3.54</td>\n      <td>31.83</td>\n      <td>3.54</td>\n    </tr>\n    <tr>\n      <th>11</th>\n      <td>7</td>\n      <td>2.68</td>\n      <td>18.79</td>\n      <td>2.68</td>\n    </tr>\n  </tbody>\n</table>\n</div>"
     },
     "metadata": {},
     "execution_count": 180
    }
   ],
   "source": [
    "# purchasing analysis (age) - purchase count, avg purchase price, total purchase value, avg purchase total per person by age group\n",
    "\n",
    "age_purchases_df = heroes_df.groupby('Age')\n",
    "\n",
    "ages_count = age_purchases_df['SN'].count()\n",
    "ages_count_df = pd.DataFrame(ages_count)\n",
    "\n",
    "# avg and sum\n",
    "avg_prices = age_purchases_df['Price'].mean()\n",
    "total_ages_purchases = age_purchases_df['Price'].sum()\n",
    "total_per_age = total_ages_purchases / ages_count\n",
    "\n",
    "# make a table\n",
    "ages_count_df[\"Avg Overall\"] = round(avg_prices,2)\n",
    "\n",
    "age_purchases_df = pd.DataFrame(ages_count_df)\n",
    "\n",
    "#renaming and adding columns\n",
    "age_purchases2_df = age_purchases_df.rename(columns={\"SN\": \"Purchase Count\"})\n",
    "age_purchases2_df[\"Total Purchase Value\"] = total_ages_purchases\n",
    "age_purchases2_df[\"Avg. Total Per Person\"] = round(total_per_age,2)\n",
    "\n",
    "age_purchases2_df.head()\n",
    "\n",
    "#unsure of how to carry bin sorting to this one for some reason\n",
    "\n"
   ]
  },
  {
   "cell_type": "code",
   "execution_count": 234,
   "metadata": {},
   "outputs": [
    {
     "output_type": "execute_result",
     "data": {
      "text/plain": "             Purchase Count  Avg Purchase Price  Total Purchase Value\nSN                                                                   \nLisosia93                 5                3.79                 18.96\nIdastidru52               4                3.86                 15.45\nChamjask73                3                4.61                 13.83\nIral74                    4                3.40                 13.62\nIskadarya95               3                4.37                 13.10",
      "text/html": "<div>\n<style scoped>\n    .dataframe tbody tr th:only-of-type {\n        vertical-align: middle;\n    }\n\n    .dataframe tbody tr th {\n        vertical-align: top;\n    }\n\n    .dataframe thead th {\n        text-align: right;\n    }\n</style>\n<table border=\"1\" class=\"dataframe\">\n  <thead>\n    <tr style=\"text-align: right;\">\n      <th></th>\n      <th>Purchase Count</th>\n      <th>Avg Purchase Price</th>\n      <th>Total Purchase Value</th>\n    </tr>\n    <tr>\n      <th>SN</th>\n      <th></th>\n      <th></th>\n      <th></th>\n    </tr>\n  </thead>\n  <tbody>\n    <tr>\n      <th>Lisosia93</th>\n      <td>5</td>\n      <td>3.79</td>\n      <td>18.96</td>\n    </tr>\n    <tr>\n      <th>Idastidru52</th>\n      <td>4</td>\n      <td>3.86</td>\n      <td>15.45</td>\n    </tr>\n    <tr>\n      <th>Chamjask73</th>\n      <td>3</td>\n      <td>4.61</td>\n      <td>13.83</td>\n    </tr>\n    <tr>\n      <th>Iral74</th>\n      <td>4</td>\n      <td>3.40</td>\n      <td>13.62</td>\n    </tr>\n    <tr>\n      <th>Iskadarya95</th>\n      <td>3</td>\n      <td>4.37</td>\n      <td>13.10</td>\n    </tr>\n  </tbody>\n</table>\n</div>"
     },
     "metadata": {},
     "execution_count": 234
    }
   ],
   "source": [
    "## TOP 5 SPENDERS\n",
    "# top spenders (the top 5) by total purchase value then list in table their sn, purchase count, avg purchase price, total purchase value\n",
    "top_spenders = heroes_df['SN'].groupby(heroes_df['SN']).count()\n",
    "\n",
    "top_spenders= pd.DataFrame(top_spenders)\n",
    "top_spenders.columns = ['Purchase Count']\n",
    "\n",
    "top_spenders['Avg Purchase Price'] = round(heroes_df['Price'].groupby(heroes_df['SN']).mean(),2)\n",
    "top_spenders['Total Purchase Value'] = heroes_df['Price'].groupby(heroes_df['SN']).sum()\n",
    "\n",
    "\n",
    "top_spenders.sort_values(['Total Purchase Value'], ascending=False, inplace=True)\n",
    "\n",
    "top_spenders['Avg Purchase Price'] = top_spenders['Avg Purchase Price']\n",
    "top_spenders['Total Purchase Value'] = top_spenders['Total Purchase Value']\n",
    "\n",
    "top_spenders.head()\n"
   ]
  },
  {
   "cell_type": "code",
   "execution_count": 185,
   "metadata": {},
   "outputs": [],
   "source": [
    "## TOP 5 POPULAR ITEMS\n",
    "# most popular items (top 5)(by purchase count) sorted into table by item id, item name, purchase count, item price, total purchase value\n",
    "\n",
    "\n"
   ]
  },
  {
   "cell_type": "code",
   "execution_count": 183,
   "metadata": {},
   "outputs": [],
   "source": [
    "## TOP 5 MOST PROFITABLE ITEMS\n",
    "# most profitable items (top 5)(by total purchase value) into table by item id, item name, purchase count, item price, total purchase value\n",
    "\n",
    "\n"
   ]
  }
 ]
}